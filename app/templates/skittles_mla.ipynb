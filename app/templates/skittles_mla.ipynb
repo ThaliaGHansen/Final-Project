{
 "cells": [
  {
   "cell_type": "markdown",
   "metadata": {},
   "source": [
    "## Skittles Datascience"
   ]
  },
  {
   "cell_type": "code",
   "execution_count": 47,
   "metadata": {},
   "outputs": [],
   "source": [
    "#Imports\n",
    "import pandas as pd\n",
    "import numpy as np\n",
    "from numpy.random import seed\n",
    "seed(1)"
   ]
  },
  {
   "cell_type": "code",
   "execution_count": 48,
   "metadata": {},
   "outputs": [],
   "source": [
    "#matplotlib and sklearn\n",
    "%matplotlib inline\n",
    "import matplotlib.pyplot as plt\n",
    "import sklearn\n",
    "# import sklearn.datasets - may not need this as we have a dataset to work with"
   ]
  },
  {
   "cell_type": "markdown",
   "metadata": {},
   "source": [
    "The original csv included columns that counted out perfect Skittles and defective Skittles which were then added up in the CSV.\n",
    "These columns were removed because they weren't necessary and we could just do a df.sum() later."
   ]
  },
  {
   "cell_type": "code",
   "execution_count": 3,
   "metadata": {},
   "outputs": [
    {
     "data": {
      "text/html": [
       "<div>\n",
       "<style scoped>\n",
       "    .dataframe tbody tr th:only-of-type {\n",
       "        vertical-align: middle;\n",
       "    }\n",
       "\n",
       "    .dataframe tbody tr th {\n",
       "        vertical-align: top;\n",
       "    }\n",
       "\n",
       "    .dataframe thead th {\n",
       "        text-align: right;\n",
       "    }\n",
       "</style>\n",
       "<table border=\"1\" class=\"dataframe\">\n",
       "  <thead>\n",
       "    <tr style=\"text-align: right;\">\n",
       "      <th></th>\n",
       "      <th>bag_number</th>\n",
       "      <th>purple</th>\n",
       "      <th>green</th>\n",
       "      <th>red</th>\n",
       "      <th>yellow</th>\n",
       "      <th>orange</th>\n",
       "      <th>d_purple</th>\n",
       "      <th>d_green</th>\n",
       "      <th>d_red</th>\n",
       "      <th>d_yellow</th>\n",
       "      <th>d_orange</th>\n",
       "    </tr>\n",
       "  </thead>\n",
       "  <tbody>\n",
       "    <tr>\n",
       "      <th>0</th>\n",
       "      <td>1</td>\n",
       "      <td>3</td>\n",
       "      <td>25</td>\n",
       "      <td>6</td>\n",
       "      <td>14</td>\n",
       "      <td>6</td>\n",
       "      <td>0</td>\n",
       "      <td>0</td>\n",
       "      <td>2</td>\n",
       "      <td>1</td>\n",
       "      <td>1</td>\n",
       "    </tr>\n",
       "    <tr>\n",
       "      <th>1</th>\n",
       "      <td>2</td>\n",
       "      <td>12</td>\n",
       "      <td>11</td>\n",
       "      <td>10</td>\n",
       "      <td>14</td>\n",
       "      <td>9</td>\n",
       "      <td>0</td>\n",
       "      <td>1</td>\n",
       "      <td>2</td>\n",
       "      <td>1</td>\n",
       "      <td>4</td>\n",
       "    </tr>\n",
       "    <tr>\n",
       "      <th>2</th>\n",
       "      <td>3</td>\n",
       "      <td>8</td>\n",
       "      <td>13</td>\n",
       "      <td>6</td>\n",
       "      <td>17</td>\n",
       "      <td>10</td>\n",
       "      <td>0</td>\n",
       "      <td>5</td>\n",
       "      <td>0</td>\n",
       "      <td>1</td>\n",
       "      <td>1</td>\n",
       "    </tr>\n",
       "    <tr>\n",
       "      <th>3</th>\n",
       "      <td>4</td>\n",
       "      <td>13</td>\n",
       "      <td>9</td>\n",
       "      <td>12</td>\n",
       "      <td>9</td>\n",
       "      <td>10</td>\n",
       "      <td>1</td>\n",
       "      <td>0</td>\n",
       "      <td>2</td>\n",
       "      <td>1</td>\n",
       "      <td>1</td>\n",
       "    </tr>\n",
       "    <tr>\n",
       "      <th>4</th>\n",
       "      <td>5</td>\n",
       "      <td>13</td>\n",
       "      <td>7</td>\n",
       "      <td>8</td>\n",
       "      <td>13</td>\n",
       "      <td>11</td>\n",
       "      <td>0</td>\n",
       "      <td>0</td>\n",
       "      <td>1</td>\n",
       "      <td>1</td>\n",
       "      <td>3</td>\n",
       "    </tr>\n",
       "    <tr>\n",
       "      <th>5</th>\n",
       "      <td>6</td>\n",
       "      <td>17</td>\n",
       "      <td>7</td>\n",
       "      <td>10</td>\n",
       "      <td>14</td>\n",
       "      <td>8</td>\n",
       "      <td>0</td>\n",
       "      <td>0</td>\n",
       "      <td>3</td>\n",
       "      <td>0</td>\n",
       "      <td>1</td>\n",
       "    </tr>\n",
       "    <tr>\n",
       "      <th>6</th>\n",
       "      <td>7</td>\n",
       "      <td>5</td>\n",
       "      <td>7</td>\n",
       "      <td>21</td>\n",
       "      <td>8</td>\n",
       "      <td>14</td>\n",
       "      <td>2</td>\n",
       "      <td>1</td>\n",
       "      <td>2</td>\n",
       "      <td>0</td>\n",
       "      <td>2</td>\n",
       "    </tr>\n",
       "    <tr>\n",
       "      <th>7</th>\n",
       "      <td>8</td>\n",
       "      <td>14</td>\n",
       "      <td>7</td>\n",
       "      <td>13</td>\n",
       "      <td>11</td>\n",
       "      <td>11</td>\n",
       "      <td>2</td>\n",
       "      <td>0</td>\n",
       "      <td>1</td>\n",
       "      <td>1</td>\n",
       "      <td>1</td>\n",
       "    </tr>\n",
       "    <tr>\n",
       "      <th>8</th>\n",
       "      <td>9</td>\n",
       "      <td>13</td>\n",
       "      <td>10</td>\n",
       "      <td>8</td>\n",
       "      <td>16</td>\n",
       "      <td>6</td>\n",
       "      <td>0</td>\n",
       "      <td>2</td>\n",
       "      <td>2</td>\n",
       "      <td>1</td>\n",
       "      <td>2</td>\n",
       "    </tr>\n",
       "    <tr>\n",
       "      <th>9</th>\n",
       "      <td>10</td>\n",
       "      <td>11</td>\n",
       "      <td>14</td>\n",
       "      <td>6</td>\n",
       "      <td>10</td>\n",
       "      <td>12</td>\n",
       "      <td>0</td>\n",
       "      <td>4</td>\n",
       "      <td>0</td>\n",
       "      <td>1</td>\n",
       "      <td>1</td>\n",
       "    </tr>\n",
       "  </tbody>\n",
       "</table>\n",
       "</div>"
      ],
      "text/plain": [
       "   bag_number  purple  green  red  yellow  orange  d_purple  d_green  d_red  \\\n",
       "0           1       3     25    6      14       6         0        0      2   \n",
       "1           2      12     11   10      14       9         0        1      2   \n",
       "2           3       8     13    6      17      10         0        5      0   \n",
       "3           4      13      9   12       9      10         1        0      2   \n",
       "4           5      13      7    8      13      11         0        0      1   \n",
       "5           6      17      7   10      14       8         0        0      3   \n",
       "6           7       5      7   21       8      14         2        1      2   \n",
       "7           8      14      7   13      11      11         2        0      1   \n",
       "8           9      13     10    8      16       6         0        2      2   \n",
       "9          10      11     14    6      10      12         0        4      0   \n",
       "\n",
       "   d_yellow  d_orange  \n",
       "0         1         1  \n",
       "1         1         4  \n",
       "2         1         1  \n",
       "3         1         1  \n",
       "4         1         3  \n",
       "5         0         1  \n",
       "6         0         2  \n",
       "7         1         1  \n",
       "8         1         2  \n",
       "9         1         1  "
      ]
     },
     "execution_count": 3,
     "metadata": {},
     "output_type": "execute_result"
    }
   ],
   "source": [
    "# Reading as a dataframe\n",
    "df = pd.read_csv('skittles_fixed.csv')\n",
    "df.head(10)"
   ]
  },
  {
   "cell_type": "markdown",
   "metadata": {},
   "source": [
    "We then tried to create an array of arrays out of the Skittles, but ran into an issue with having a proper X and y axis."
   ]
  },
  {
   "cell_type": "code",
   "execution_count": 4,
   "metadata": {},
   "outputs": [
    {
     "data": {
      "text/plain": [
       "array([[  1,   3,  25, ...,   2,   1,   1],\n",
       "       [  2,  12,  11, ...,   2,   1,   4],\n",
       "       [  3,   8,  13, ...,   0,   1,   1],\n",
       "       ...,\n",
       "       [ 98,   5,  12, ...,   3,   3,   0],\n",
       "       [ 99,   9,  13, ...,   0,   1,   2],\n",
       "       [100,  10,  10, ...,   3,   0,   4]], dtype=int64)"
      ]
     },
     "execution_count": 4,
     "metadata": {},
     "output_type": "execute_result"
    }
   ],
   "source": [
    "skittles_data = pd.read_csv('skittles_fixed.csv')\n",
    "X = skittles_data.iloc[0:100].values\n",
    "X"
   ]
  },
  {
   "cell_type": "code",
   "execution_count": 5,
   "metadata": {},
   "outputs": [
    {
     "data": {
      "text/html": [
       "<div>\n",
       "<style scoped>\n",
       "    .dataframe tbody tr th:only-of-type {\n",
       "        vertical-align: middle;\n",
       "    }\n",
       "\n",
       "    .dataframe tbody tr th {\n",
       "        vertical-align: top;\n",
       "    }\n",
       "\n",
       "    .dataframe thead th {\n",
       "        text-align: right;\n",
       "    }\n",
       "</style>\n",
       "<table border=\"1\" class=\"dataframe\">\n",
       "  <thead>\n",
       "    <tr style=\"text-align: right;\">\n",
       "      <th></th>\n",
       "      <th>bag_number</th>\n",
       "      <th>purple</th>\n",
       "      <th>green</th>\n",
       "      <th>red</th>\n",
       "      <th>yellow</th>\n",
       "      <th>orange</th>\n",
       "      <th>d_purple</th>\n",
       "      <th>d_green</th>\n",
       "      <th>d_red</th>\n",
       "      <th>d_yellow</th>\n",
       "      <th>d_orange</th>\n",
       "    </tr>\n",
       "  </thead>\n",
       "  <tbody>\n",
       "    <tr>\n",
       "      <th>0</th>\n",
       "      <td>1</td>\n",
       "      <td>3</td>\n",
       "      <td>25</td>\n",
       "      <td>6</td>\n",
       "      <td>14</td>\n",
       "      <td>6</td>\n",
       "      <td>0</td>\n",
       "      <td>0</td>\n",
       "      <td>2</td>\n",
       "      <td>1</td>\n",
       "      <td>1</td>\n",
       "    </tr>\n",
       "    <tr>\n",
       "      <th>1</th>\n",
       "      <td>2</td>\n",
       "      <td>12</td>\n",
       "      <td>11</td>\n",
       "      <td>10</td>\n",
       "      <td>14</td>\n",
       "      <td>9</td>\n",
       "      <td>0</td>\n",
       "      <td>1</td>\n",
       "      <td>2</td>\n",
       "      <td>1</td>\n",
       "      <td>4</td>\n",
       "    </tr>\n",
       "    <tr>\n",
       "      <th>2</th>\n",
       "      <td>3</td>\n",
       "      <td>8</td>\n",
       "      <td>13</td>\n",
       "      <td>6</td>\n",
       "      <td>17</td>\n",
       "      <td>10</td>\n",
       "      <td>0</td>\n",
       "      <td>5</td>\n",
       "      <td>0</td>\n",
       "      <td>1</td>\n",
       "      <td>1</td>\n",
       "    </tr>\n",
       "    <tr>\n",
       "      <th>3</th>\n",
       "      <td>4</td>\n",
       "      <td>13</td>\n",
       "      <td>9</td>\n",
       "      <td>12</td>\n",
       "      <td>9</td>\n",
       "      <td>10</td>\n",
       "      <td>1</td>\n",
       "      <td>0</td>\n",
       "      <td>2</td>\n",
       "      <td>1</td>\n",
       "      <td>1</td>\n",
       "    </tr>\n",
       "    <tr>\n",
       "      <th>4</th>\n",
       "      <td>5</td>\n",
       "      <td>13</td>\n",
       "      <td>7</td>\n",
       "      <td>8</td>\n",
       "      <td>13</td>\n",
       "      <td>11</td>\n",
       "      <td>0</td>\n",
       "      <td>0</td>\n",
       "      <td>1</td>\n",
       "      <td>1</td>\n",
       "      <td>3</td>\n",
       "    </tr>\n",
       "  </tbody>\n",
       "</table>\n",
       "</div>"
      ],
      "text/plain": [
       "   bag_number  purple  green  red  yellow  orange  d_purple  d_green  d_red  \\\n",
       "0           1       3     25    6      14       6         0        0      2   \n",
       "1           2      12     11   10      14       9         0        1      2   \n",
       "2           3       8     13    6      17      10         0        5      0   \n",
       "3           4      13      9   12       9      10         1        0      2   \n",
       "4           5      13      7    8      13      11         0        0      1   \n",
       "\n",
       "   d_yellow  d_orange  \n",
       "0         1         1  \n",
       "1         1         4  \n",
       "2         1         1  \n",
       "3         1         1  \n",
       "4         1         3  "
      ]
     },
     "execution_count": 5,
     "metadata": {},
     "output_type": "execute_result"
    }
   ],
   "source": [
    "#looking at the df again...\n",
    "df.head()"
   ]
  },
  {
   "cell_type": "code",
   "execution_count": 6,
   "metadata": {},
   "outputs": [
    {
     "data": {
      "text/plain": [
       "<matplotlib.axes._subplots.AxesSubplot at 0x111f9704cf8>"
      ]
     },
     "execution_count": 6,
     "metadata": {},
     "output_type": "execute_result"
    },
    {
     "data": {
      "image/png": "[encoded data removed]",
      "text/plain": [
       "<Figure size 432x288 with 1 Axes>"
      ]
     },
     "metadata": {
      "needs_background": "light"
     },
     "output_type": "display_data"
    }
   ],
   "source": [
    "#Creating visualization from a SUM across the Skittles totals (sorted by colors)\n",
    "df.sum()[['purple', 'green', 'red', 'yellow', 'orange']].plot(kind='bar', color=['purple', 'green', 'red', 'yellow', 'orange'])"
   ]
  },
  {
   "cell_type": "code",
   "execution_count": 7,
   "metadata": {},
   "outputs": [
    {
     "data": {
      "text/plain": [
       "bag_number    5052\n",
       "purple         964\n",
       "green         1087\n",
       "red           1014\n",
       "yellow        1211\n",
       "orange        1095\n",
       "d_purple       107\n",
       "d_green        215\n",
       "d_red          172\n",
       "d_yellow        67\n",
       "d_orange       214\n",
       "dtype: int64"
      ]
     },
     "execution_count": 7,
     "metadata": {},
     "output_type": "execute_result"
    }
   ],
   "source": [
    "# Getting numerical sums for our set of 100 bags\n",
    "df.sum()"
   ]
  },
  {
   "cell_type": "code",
   "execution_count": 8,
   "metadata": {},
   "outputs": [
    {
     "data": {
      "image/png": "[encoded data removed]",
      "text/plain": [
       "<Figure size 432x288 with 1 Axes>"
      ]
     },
     "metadata": {
      "needs_background": "light"
     },
     "output_type": "display_data"
    },
    {
     "data": {
      "image/png": "[encoded data removed]",
      "text/plain": [
       "<Figure size 432x288 with 1 Axes>"
      ]
     },
     "metadata": {
      "needs_background": "light"
     },
     "output_type": "display_data"
    },
    {
     "data": {
      "image/png": "[encoded data removed]",
      "text/plain": [
       "<Figure size 432x288 with 1 Axes>"
      ]
     },
     "metadata": {
      "needs_background": "light"
     },
     "output_type": "display_data"
    },
    {
     "data": {
      "image/png": "[encoded data removed]",
      "text/plain": [
       "<Figure size 432x288 with 1 Axes>"
      ]
     },
     "metadata": {
      "needs_background": "light"
     },
     "output_type": "display_data"
    },
    {
     "data": {
      "image/png": "[encoded data removed]",
      "text/plain": [
       "<Figure size 432x288 with 1 Axes>"
      ]
     },
     "metadata": {
      "needs_background": "light"
     },
     "output_type": "display_data"
    }
   ],
   "source": [
    "#Histogram visualizations by color\n",
    "for color in ['purple', 'green', 'red', 'yellow', 'orange']:\n",
    "    df[color].plot(kind='hist', color=color)\n",
    "    plt.show()"
   ]
  },
  {
   "cell_type": "markdown",
   "metadata": {},
   "source": [
    "We were hoping that the Histograms would reveal some consistency with how the Skittles were disbursed in terms of machine predictability.\n",
    "The most consistent thing about the bags was how inconsistently they were packed."
   ]
  },
  {
   "cell_type": "code",
   "execution_count": 188,
   "metadata": {},
   "outputs": [
    {
     "data": {
      "text/plain": [
       "array([[<matplotlib.axes._subplots.AxesSubplot object at 0x00000111916B9390>,\n",
       "        <matplotlib.axes._subplots.AxesSubplot object at 0x000001119270A9B0>,\n",
       "        <matplotlib.axes._subplots.AxesSubplot object at 0x0000011192721BE0>,\n",
       "        <matplotlib.axes._subplots.AxesSubplot object at 0x00000111922D3160>,\n",
       "        <matplotlib.axes._subplots.AxesSubplot object at 0x00000111922F86D8>],\n",
       "       [<matplotlib.axes._subplots.AxesSubplot object at 0x000001119231DC50>,\n",
       "        <matplotlib.axes._subplots.AxesSubplot object at 0x000001119234F208>,\n",
       "        <matplotlib.axes._subplots.AxesSubplot object at 0x00000111923757B8>,\n",
       "        <matplotlib.axes._subplots.AxesSubplot object at 0x00000111923757F0>,\n",
       "        <matplotlib.axes._subplots.AxesSubplot object at 0x000001118EB1B438>],\n",
       "       [<matplotlib.axes._subplots.AxesSubplot object at 0x000001118E453D30>,\n",
       "        <matplotlib.axes._subplots.AxesSubplot object at 0x000001118F17BF28>,\n",
       "        <matplotlib.axes._subplots.AxesSubplot object at 0x000001118ED43400>,\n",
       "        <matplotlib.axes._subplots.AxesSubplot object at 0x000001118E9FD668>,\n",
       "        <matplotlib.axes._subplots.AxesSubplot object at 0x000001118D274F98>],\n",
       "       [<matplotlib.axes._subplots.AxesSubplot object at 0x000001118C7174E0>,\n",
       "        <matplotlib.axes._subplots.AxesSubplot object at 0x000001118C6ECD30>,\n",
       "        <matplotlib.axes._subplots.AxesSubplot object at 0x000001118C5F2208>,\n",
       "        <matplotlib.axes._subplots.AxesSubplot object at 0x000001118C65D8D0>,\n",
       "        <matplotlib.axes._subplots.AxesSubplot object at 0x000001118C60D940>],\n",
       "       [<matplotlib.axes._subplots.AxesSubplot object at 0x000001118AF57240>,\n",
       "        <matplotlib.axes._subplots.AxesSubplot object at 0x000001118C56CBA8>,\n",
       "        <matplotlib.axes._subplots.AxesSubplot object at 0x000001118C3B5C88>,\n",
       "        <matplotlib.axes._subplots.AxesSubplot object at 0x000001118C2C2A20>,\n",
       "        <matplotlib.axes._subplots.AxesSubplot object at 0x000001118C282F60>]],\n",
       "      dtype=object)"
      ]
     },
     "execution_count": 188,
     "metadata": {},
     "output_type": "execute_result"
    },
    {
     "data": {
      "image/png": "[encoded data removed]",
      "text/plain": [
       "<Figure size 720x720 with 25 Axes>"
      ]
     },
     "metadata": {
      "needs_background": "light"
     },
     "output_type": "display_data"
    }
   ],
   "source": [
    "#Scatter Matrix\n",
    "pd.plotting.scatter_matrix(df[['purple', 'green', 'red', 'yellow', 'orange']], figsize=(10,10))\n"
   ]
  },
  {
   "cell_type": "markdown",
   "metadata": {},
   "source": [
    "The results of our Scatterplot did not reveal the \"magic formula\" we could use to predict the contents of a bag without a vague generalization.  So, we changed our methods to see if there was any further information that could be revealed to us.\n",
    "(THANKS NATE!)"
   ]
  },
  {
   "cell_type": "code",
   "execution_count": 10,
   "metadata": {},
   "outputs": [
    {
     "data": {
      "text/html": [
       "<div>\n",
       "<style scoped>\n",
       "    .dataframe tbody tr th:only-of-type {\n",
       "        vertical-align: middle;\n",
       "    }\n",
       "\n",
       "    .dataframe tbody tr th {\n",
       "        vertical-align: top;\n",
       "    }\n",
       "\n",
       "    .dataframe thead th {\n",
       "        text-align: right;\n",
       "    }\n",
       "</style>\n",
       "<table border=\"1\" class=\"dataframe\">\n",
       "  <thead>\n",
       "    <tr style=\"text-align: right;\">\n",
       "      <th></th>\n",
       "      <th>purple</th>\n",
       "      <th>green</th>\n",
       "      <th>red</th>\n",
       "      <th>orange</th>\n",
       "    </tr>\n",
       "  </thead>\n",
       "  <tbody>\n",
       "    <tr>\n",
       "      <th>0</th>\n",
       "      <td>3</td>\n",
       "      <td>25</td>\n",
       "      <td>6</td>\n",
       "      <td>6</td>\n",
       "    </tr>\n",
       "    <tr>\n",
       "      <th>1</th>\n",
       "      <td>12</td>\n",
       "      <td>11</td>\n",
       "      <td>10</td>\n",
       "      <td>9</td>\n",
       "    </tr>\n",
       "    <tr>\n",
       "      <th>2</th>\n",
       "      <td>8</td>\n",
       "      <td>13</td>\n",
       "      <td>6</td>\n",
       "      <td>10</td>\n",
       "    </tr>\n",
       "    <tr>\n",
       "      <th>3</th>\n",
       "      <td>13</td>\n",
       "      <td>9</td>\n",
       "      <td>12</td>\n",
       "      <td>10</td>\n",
       "    </tr>\n",
       "    <tr>\n",
       "      <th>4</th>\n",
       "      <td>13</td>\n",
       "      <td>7</td>\n",
       "      <td>8</td>\n",
       "      <td>11</td>\n",
       "    </tr>\n",
       "  </tbody>\n",
       "</table>\n",
       "</div>"
      ],
      "text/plain": [
       "   purple  green  red  orange\n",
       "0       3     25    6       6\n",
       "1      12     11   10       9\n",
       "2       8     13    6      10\n",
       "3      13      9   12      10\n",
       "4      13      7    8      11"
      ]
     },
     "execution_count": 10,
     "metadata": {},
     "output_type": "execute_result"
    }
   ],
   "source": [
    "x_color = 'yellow'\n",
    "y = df[[color for color in ['purple', 'green', 'red', 'yellow', 'orange'] if color != x_color]]\n",
    "X = df[x_color]\n",
    "\n",
    "X.head()\n",
    "y.head()"
   ]
  },
  {
   "cell_type": "markdown",
   "metadata": {},
   "source": [
    "Our approach shifted to see if we could accurately predict the counts of four (4) color groups of Skittles by comparing it to the color and count of ONE group.  Pull one color out for the X value and see if we can predict the remaining colors as our y values.  \"If we have X amount of reds, then we have y amount of Green, Orange, Purple, and Yellow.\"\n",
    "\n",
    "This is what's called a Mulitvariate Problem (when we're trying to determine an outcome based on multiple y values)."
   ]
  },
  {
   "cell_type": "markdown",
   "metadata": {},
   "source": [
    "### TEST 1: X = Orange, y = purple, green, red, and yellow."
   ]
  },
  {
   "cell_type": "code",
   "execution_count": 11,
   "metadata": {},
   "outputs": [
    {
     "data": {
      "text/plain": [
       "0.06645858383398072"
      ]
     },
     "execution_count": 11,
     "metadata": {},
     "output_type": "execute_result"
    }
   ],
   "source": [
    "y = df[['purple', 'green', 'red', 'yellow',]]\n",
    "X = df[ 'orange'] \n",
    "\n",
    "#R Squared Scoring Code\n",
    "from sklearn.linear_model import LinearRegression\n",
    "from sklearn.model_selection import train_test_split\n",
    "model = LinearRegression()\n",
    "X_train, X_test, y_train, y_test = train_test_split(X.values.reshape(-1,1), y.values)\n",
    "model.fit(X_train, y_train)\n",
    "model.score(X_test, y_test)"
   ]
  },
  {
   "cell_type": "markdown",
   "metadata": {},
   "source": [
    "Good News - Nate has never seen a score this bad, so... there's that.\n",
    "#### Bad News - NATE HAS NEVER SEEN A SCORE THIS BAD.\n",
    "We actually got a NEGATIVE R Squared Score on our first pass."
   ]
  },
  {
   "cell_type": "code",
   "execution_count": 12,
   "metadata": {},
   "outputs": [
    {
     "data": {
      "text/html": [
       "<div>\n",
       "<style scoped>\n",
       "    .dataframe tbody tr th:only-of-type {\n",
       "        vertical-align: middle;\n",
       "    }\n",
       "\n",
       "    .dataframe tbody tr th {\n",
       "        vertical-align: top;\n",
       "    }\n",
       "\n",
       "    .dataframe thead th {\n",
       "        text-align: right;\n",
       "    }\n",
       "</style>\n",
       "<table border=\"1\" class=\"dataframe\">\n",
       "  <thead>\n",
       "    <tr style=\"text-align: right;\">\n",
       "      <th></th>\n",
       "      <th>purple</th>\n",
       "      <th>green</th>\n",
       "      <th>red</th>\n",
       "      <th>yellow</th>\n",
       "    </tr>\n",
       "  </thead>\n",
       "  <tbody>\n",
       "    <tr>\n",
       "      <th>0</th>\n",
       "      <td>9.620531</td>\n",
       "      <td>10.847999</td>\n",
       "      <td>10.25237</td>\n",
       "      <td>12.059056</td>\n",
       "    </tr>\n",
       "  </tbody>\n",
       "</table>\n",
       "</div>"
      ],
      "text/plain": [
       "     purple      green       red     yellow\n",
       "0  9.620531  10.847999  10.25237  12.059056"
      ]
     },
     "execution_count": 12,
     "metadata": {},
     "output_type": "execute_result"
    }
   ],
   "source": [
    "#Need to round and try to determine\n",
    "pd.DataFrame(model.predict(X_test[0].reshape(-1,1)), columns=['purple', 'green', 'red', 'yellow',])"
   ]
  },
  {
   "cell_type": "markdown",
   "metadata": {},
   "source": [
    "### TEST 2: X = Yellow, y = Purple, Green, Red, and Orange."
   ]
  },
  {
   "cell_type": "code",
   "execution_count": 13,
   "metadata": {},
   "outputs": [
    {
     "data": {
      "text/plain": [
       "0.027214765557958515"
      ]
     },
     "execution_count": 13,
     "metadata": {},
     "output_type": "execute_result"
    }
   ],
   "source": [
    "y = df[['purple','green','red','orange']]\n",
    "X = df['yellow'] \n",
    "\n",
    "#R Squared Scoring Code\n",
    "from sklearn.linear_model import LinearRegression\n",
    "from sklearn.model_selection import train_test_split\n",
    "model = LinearRegression()\n",
    "X_train, X_test, y_train, y_test = train_test_split(X.values.reshape(-1,1), y.values)\n",
    "model.fit(X_train, y_train)\n",
    "model.score(X_test, y_test)"
   ]
  },
  {
   "cell_type": "code",
   "execution_count": 14,
   "metadata": {},
   "outputs": [
    {
     "data": {
      "text/html": [
       "<div>\n",
       "<style scoped>\n",
       "    .dataframe tbody tr th:only-of-type {\n",
       "        vertical-align: middle;\n",
       "    }\n",
       "\n",
       "    .dataframe tbody tr th {\n",
       "        vertical-align: top;\n",
       "    }\n",
       "\n",
       "    .dataframe thead th {\n",
       "        text-align: right;\n",
       "    }\n",
       "</style>\n",
       "<table border=\"1\" class=\"dataframe\">\n",
       "  <thead>\n",
       "    <tr style=\"text-align: right;\">\n",
       "      <th></th>\n",
       "      <th>purple</th>\n",
       "      <th>green</th>\n",
       "      <th>red</th>\n",
       "      <th>orange</th>\n",
       "    </tr>\n",
       "  </thead>\n",
       "  <tbody>\n",
       "    <tr>\n",
       "      <th>0</th>\n",
       "      <td>9.728007</td>\n",
       "      <td>11.415465</td>\n",
       "      <td>10.834278</td>\n",
       "      <td>11.819734</td>\n",
       "    </tr>\n",
       "  </tbody>\n",
       "</table>\n",
       "</div>"
      ],
      "text/plain": [
       "     purple      green        red     orange\n",
       "0  9.728007  11.415465  10.834278  11.819734"
      ]
     },
     "execution_count": 14,
     "metadata": {},
     "output_type": "execute_result"
    }
   ],
   "source": [
    "pd.DataFrame(model.predict(X_test[0].reshape(-1,1)), columns=['purple', 'green', 'red','orange'])"
   ]
  },
  {
   "cell_type": "markdown",
   "metadata": {},
   "source": [
    "### TEST 3: X = Purple, y = Green, Red, Orange, and Yellow."
   ]
  },
  {
   "cell_type": "code",
   "execution_count": 15,
   "metadata": {},
   "outputs": [
    {
     "data": {
      "text/plain": [
       "-0.05681204355090093"
      ]
     },
     "execution_count": 15,
     "metadata": {},
     "output_type": "execute_result"
    }
   ],
   "source": [
    "y = df[['green','red','orange','yellow']]\n",
    "X = df['purple'] \n",
    "\n",
    "#R Squared Scoring Code\n",
    "from sklearn.linear_model import LinearRegression\n",
    "from sklearn.model_selection import train_test_split\n",
    "model = LinearRegression()\n",
    "X_train, X_test, y_train, y_test = train_test_split(X.values.reshape(-1,1), y.values)\n",
    "model.fit(X_train, y_train)\n",
    "model.score(X_test, y_test)"
   ]
  },
  {
   "cell_type": "code",
   "execution_count": 16,
   "metadata": {},
   "outputs": [
    {
     "data": {
      "text/html": [
       "<div>\n",
       "<style scoped>\n",
       "    .dataframe tbody tr th:only-of-type {\n",
       "        vertical-align: middle;\n",
       "    }\n",
       "\n",
       "    .dataframe tbody tr th {\n",
       "        vertical-align: top;\n",
       "    }\n",
       "\n",
       "    .dataframe thead th {\n",
       "        text-align: right;\n",
       "    }\n",
       "</style>\n",
       "<table border=\"1\" class=\"dataframe\">\n",
       "  <thead>\n",
       "    <tr style=\"text-align: right;\">\n",
       "      <th></th>\n",
       "      <th>green</th>\n",
       "      <th>red</th>\n",
       "      <th>orange</th>\n",
       "      <th>yellow</th>\n",
       "    </tr>\n",
       "  </thead>\n",
       "  <tbody>\n",
       "    <tr>\n",
       "      <th>0</th>\n",
       "      <td>10.168674</td>\n",
       "      <td>10.011866</td>\n",
       "      <td>10.633396</td>\n",
       "      <td>12.122687</td>\n",
       "    </tr>\n",
       "  </tbody>\n",
       "</table>\n",
       "</div>"
      ],
      "text/plain": [
       "       green        red     orange     yellow\n",
       "0  10.168674  10.011866  10.633396  12.122687"
      ]
     },
     "execution_count": 16,
     "metadata": {},
     "output_type": "execute_result"
    }
   ],
   "source": [
    "pd.DataFrame(model.predict(X_test[0].reshape(-1,1)), columns=['green', 'red','orange','yellow'])"
   ]
  },
  {
   "cell_type": "markdown",
   "metadata": {},
   "source": [
    "### TEST 4: X = Green, y = Orange, Purple, Red, and Yellow."
   ]
  },
  {
   "cell_type": "code",
   "execution_count": 17,
   "metadata": {},
   "outputs": [
    {
     "data": {
      "text/plain": [
       "0.007142678655936656"
      ]
     },
     "execution_count": 17,
     "metadata": {},
     "output_type": "execute_result"
    }
   ],
   "source": [
    "y = df[['orange','purple','red','yellow']]\n",
    "X = df['green'] \n",
    "\n",
    "#R Squared Scoring Code\n",
    "from sklearn.linear_model import LinearRegression\n",
    "from sklearn.model_selection import train_test_split\n",
    "model = LinearRegression()\n",
    "X_train, X_test, y_train, y_test = train_test_split(X.values.reshape(-1,1), y.values)\n",
    "model.fit(X_train, y_train)\n",
    "model.score(X_test, y_test)"
   ]
  },
  {
   "cell_type": "code",
   "execution_count": 18,
   "metadata": {},
   "outputs": [
    {
     "data": {
      "text/html": [
       "<div>\n",
       "<style scoped>\n",
       "    .dataframe tbody tr th:only-of-type {\n",
       "        vertical-align: middle;\n",
       "    }\n",
       "\n",
       "    .dataframe tbody tr th {\n",
       "        vertical-align: top;\n",
       "    }\n",
       "\n",
       "    .dataframe thead th {\n",
       "        text-align: right;\n",
       "    }\n",
       "</style>\n",
       "<table border=\"1\" class=\"dataframe\">\n",
       "  <thead>\n",
       "    <tr style=\"text-align: right;\">\n",
       "      <th></th>\n",
       "      <th>orange</th>\n",
       "      <th>purple</th>\n",
       "      <th>red</th>\n",
       "      <th>yellow</th>\n",
       "    </tr>\n",
       "  </thead>\n",
       "  <tbody>\n",
       "    <tr>\n",
       "      <th>0</th>\n",
       "      <td>10.53522</td>\n",
       "      <td>9.679762</td>\n",
       "      <td>8.246611</td>\n",
       "      <td>10.344114</td>\n",
       "    </tr>\n",
       "  </tbody>\n",
       "</table>\n",
       "</div>"
      ],
      "text/plain": [
       "     orange    purple       red     yellow\n",
       "0  10.53522  9.679762  8.246611  10.344114"
      ]
     },
     "execution_count": 18,
     "metadata": {},
     "output_type": "execute_result"
    }
   ],
   "source": [
    "pd.DataFrame(model.predict(X_test[0].reshape(-1,1)), columns=['orange','purple','red','yellow'])"
   ]
  },
  {
   "cell_type": "markdown",
   "metadata": {},
   "source": [
    "### TEST 5: X = Red, y = Orange, Purple, Yellow, and Green."
   ]
  },
  {
   "cell_type": "code",
   "execution_count": 19,
   "metadata": {},
   "outputs": [
    {
     "data": {
      "text/plain": [
       "-0.05900625504653933"
      ]
     },
     "execution_count": 19,
     "metadata": {},
     "output_type": "execute_result"
    }
   ],
   "source": [
    "y = df[['orange','purple','yellow','green']]\n",
    "X = df['red'] \n",
    "\n",
    "#R Squared Scoring Code\n",
    "from sklearn.linear_model import LinearRegression\n",
    "from sklearn.model_selection import train_test_split\n",
    "model = LinearRegression()\n",
    "X_train, X_test, y_train, y_test = train_test_split(X.values.reshape(-1,1), y.values)\n",
    "model.fit(X_train, y_train)\n",
    "model.score(X_test, y_test)"
   ]
  },
  {
   "cell_type": "code",
   "execution_count": 20,
   "metadata": {},
   "outputs": [
    {
     "data": {
      "text/html": [
       "<div>\n",
       "<style scoped>\n",
       "    .dataframe tbody tr th:only-of-type {\n",
       "        vertical-align: middle;\n",
       "    }\n",
       "\n",
       "    .dataframe tbody tr th {\n",
       "        vertical-align: top;\n",
       "    }\n",
       "\n",
       "    .dataframe thead th {\n",
       "        text-align: right;\n",
       "    }\n",
       "</style>\n",
       "<table border=\"1\" class=\"dataframe\">\n",
       "  <thead>\n",
       "    <tr style=\"text-align: right;\">\n",
       "      <th></th>\n",
       "      <th>orange</th>\n",
       "      <th>purple</th>\n",
       "      <th>yellow</th>\n",
       "      <th>green</th>\n",
       "    </tr>\n",
       "  </thead>\n",
       "  <tbody>\n",
       "    <tr>\n",
       "      <th>0</th>\n",
       "      <td>11.361234</td>\n",
       "      <td>9.229761</td>\n",
       "      <td>10.818512</td>\n",
       "      <td>9.990041</td>\n",
       "    </tr>\n",
       "  </tbody>\n",
       "</table>\n",
       "</div>"
      ],
      "text/plain": [
       "      orange    purple     yellow     green\n",
       "0  11.361234  9.229761  10.818512  9.990041"
      ]
     },
     "execution_count": 20,
     "metadata": {},
     "output_type": "execute_result"
    }
   ],
   "source": [
    "pd.DataFrame(model.predict(X_test[0].reshape(-1,1)), columns=['orange','purple','yellow','green'])"
   ]
  },
  {
   "cell_type": "markdown",
   "metadata": {},
   "source": [
    "### EXTRA TEST - Does adding the defective Skittles change our scores?"
   ]
  },
  {
   "cell_type": "code",
   "execution_count": 21,
   "metadata": {},
   "outputs": [
    {
     "data": {
      "text/plain": [
       "-0.07540221298660402"
      ]
     },
     "execution_count": 21,
     "metadata": {},
     "output_type": "execute_result"
    }
   ],
   "source": [
    "y = df[['orange','purple','yellow','green','d_orange','d_purple','d_yellow','d_green']]\n",
    "X = df['red'] \n",
    "\n",
    "#R Squared Scoring Code\n",
    "from sklearn.linear_model import LinearRegression\n",
    "from sklearn.model_selection import train_test_split\n",
    "model = LinearRegression()\n",
    "X_train, X_test, y_train, y_test = train_test_split(X.values.reshape(-1,1), y.values)\n",
    "model.fit(X_train, y_train)\n",
    "model.score(X_test, y_test)"
   ]
  },
  {
   "cell_type": "code",
   "execution_count": 22,
   "metadata": {},
   "outputs": [
    {
     "data": {
      "text/html": [
       "<div>\n",
       "<style scoped>\n",
       "    .dataframe tbody tr th:only-of-type {\n",
       "        vertical-align: middle;\n",
       "    }\n",
       "\n",
       "    .dataframe tbody tr th {\n",
       "        vertical-align: top;\n",
       "    }\n",
       "\n",
       "    .dataframe thead th {\n",
       "        text-align: right;\n",
       "    }\n",
       "</style>\n",
       "<table border=\"1\" class=\"dataframe\">\n",
       "  <thead>\n",
       "    <tr style=\"text-align: right;\">\n",
       "      <th></th>\n",
       "      <th>orange</th>\n",
       "      <th>purple</th>\n",
       "      <th>yellow</th>\n",
       "      <th>green</th>\n",
       "      <th>d_orange</th>\n",
       "      <th>d_purple</th>\n",
       "      <th>d_yellow</th>\n",
       "      <th>d_green</th>\n",
       "    </tr>\n",
       "  </thead>\n",
       "  <tbody>\n",
       "    <tr>\n",
       "      <th>0</th>\n",
       "      <td>10.746231</td>\n",
       "      <td>10.895336</td>\n",
       "      <td>13.424179</td>\n",
       "      <td>11.510858</td>\n",
       "      <td>2.512313</td>\n",
       "      <td>1.331493</td>\n",
       "      <td>0.69041</td>\n",
       "      <td>2.634888</td>\n",
       "    </tr>\n",
       "  </tbody>\n",
       "</table>\n",
       "</div>"
      ],
      "text/plain": [
       "      orange     purple     yellow      green  d_orange  d_purple  d_yellow  \\\n",
       "0  10.746231  10.895336  13.424179  11.510858  2.512313  1.331493   0.69041   \n",
       "\n",
       "    d_green  \n",
       "0  2.634888  "
      ]
     },
     "execution_count": 22,
     "metadata": {},
     "output_type": "execute_result"
    }
   ],
   "source": [
    "pd.DataFrame(model.predict(X_test[0].reshape(-1,1)), columns=['orange','purple','yellow','green','d_orange','d_purple','d_yellow','d_green'])"
   ]
  },
  {
   "cell_type": "markdown",
   "metadata": {},
   "source": [
    "### What did we learn?\n",
    "\n",
    "It doesn't appear that adding the defective Skittles changes our scoring model.  Rather than being predictive based on machine learning, it appears that the data lends itself to a Burnoulli Model - meaning that the estimation of the bag contents relies more on averages to guess."
   ]
  },
  {
   "cell_type": "markdown",
   "metadata": {},
   "source": [
    "### Will adding an additional 468 packs change the results?\n",
    "Let's find out!"
   ]
  },
  {
   "cell_type": "code",
   "execution_count": 23,
   "metadata": {},
   "outputs": [
    {
     "data": {
      "text/html": [
       "<div>\n",
       "<style scoped>\n",
       "    .dataframe tbody tr th:only-of-type {\n",
       "        vertical-align: middle;\n",
       "    }\n",
       "\n",
       "    .dataframe tbody tr th {\n",
       "        vertical-align: top;\n",
       "    }\n",
       "\n",
       "    .dataframe thead th {\n",
       "        text-align: right;\n",
       "    }\n",
       "</style>\n",
       "<table border=\"1\" class=\"dataframe\">\n",
       "  <thead>\n",
       "    <tr style=\"text-align: right;\">\n",
       "      <th></th>\n",
       "      <th>purple</th>\n",
       "      <th>green</th>\n",
       "      <th>red</th>\n",
       "      <th>yellow</th>\n",
       "      <th>orange</th>\n",
       "      <th>uncounted</th>\n",
       "    </tr>\n",
       "  </thead>\n",
       "  <tbody>\n",
       "    <tr>\n",
       "      <th>0</th>\n",
       "      <td>18</td>\n",
       "      <td>7</td>\n",
       "      <td>10</td>\n",
       "      <td>11</td>\n",
       "      <td>15</td>\n",
       "      <td>0</td>\n",
       "    </tr>\n",
       "    <tr>\n",
       "      <th>1</th>\n",
       "      <td>10</td>\n",
       "      <td>15</td>\n",
       "      <td>5</td>\n",
       "      <td>17</td>\n",
       "      <td>12</td>\n",
       "      <td>0</td>\n",
       "    </tr>\n",
       "    <tr>\n",
       "      <th>2</th>\n",
       "      <td>9</td>\n",
       "      <td>11</td>\n",
       "      <td>16</td>\n",
       "      <td>15</td>\n",
       "      <td>11</td>\n",
       "      <td>0</td>\n",
       "    </tr>\n",
       "    <tr>\n",
       "      <th>3</th>\n",
       "      <td>7</td>\n",
       "      <td>16</td>\n",
       "      <td>15</td>\n",
       "      <td>13</td>\n",
       "      <td>8</td>\n",
       "      <td>0</td>\n",
       "    </tr>\n",
       "    <tr>\n",
       "      <th>4</th>\n",
       "      <td>7</td>\n",
       "      <td>8</td>\n",
       "      <td>11</td>\n",
       "      <td>20</td>\n",
       "      <td>14</td>\n",
       "      <td>1</td>\n",
       "    </tr>\n",
       "  </tbody>\n",
       "</table>\n",
       "</div>"
      ],
      "text/plain": [
       "   purple  green  red  yellow  orange  uncounted\n",
       "0      18      7   10      11      15          0\n",
       "1      10     15    5      17      12          0\n",
       "2       9     11   16      15      11          0\n",
       "3       7     16   15      13       8          0\n",
       "4       7      8   11      20      14          1"
      ]
     },
     "execution_count": 23,
     "metadata": {},
     "output_type": "execute_result"
    }
   ],
   "source": [
    "#Using the power of the Internet...\n",
    "df_468 = pd.read_csv('skittles_468.csv')\n",
    "df_468.head()"
   ]
  },
  {
   "cell_type": "code",
   "execution_count": 24,
   "metadata": {},
   "outputs": [
    {
     "data": {
      "text/plain": [
       "<matplotlib.axes._subplots.AxesSubplot at 0x111fd1679b0>"
      ]
     },
     "execution_count": 24,
     "metadata": {},
     "output_type": "execute_result"
    },
    {
     "data": {
      "image/png": "[encoded data removed]",
      "text/plain": [
       "<Figure size 432x288 with 1 Axes>"
      ]
     },
     "metadata": {
      "needs_background": "light"
     },
     "output_type": "display_data"
    }
   ],
   "source": [
    "#Creating visualization with additional Skittles\n",
    "df_468.sum()[['purple', 'green', 'red', 'yellow', 'orange']].plot(kind='bar', color=['purple', 'green', 'red', 'yellow', 'orange'])"
   ]
  },
  {
   "cell_type": "code",
   "execution_count": 189,
   "metadata": {},
   "outputs": [
    {
     "data": {
      "text/plain": [
       "<matplotlib.axes._subplots.AxesSubplot at 0x1118f1e80f0>"
      ]
     },
     "execution_count": 189,
     "metadata": {},
     "output_type": "execute_result"
    },
    {
     "data": {
      "image/png": "[encoded data removed]",
      "text/plain": [
       "<Figure size 432x288 with 1 Axes>"
      ]
     },
     "metadata": {
      "needs_background": "light"
     },
     "output_type": "display_data"
    }
   ],
   "source": [
    "# 100 Original bags with standard deviation added (as our defective Skittles).\n",
    "#  This means our average count of perfect and defective Skittles is about 12 of each color per bag.  Avg. 60 Skittles per bag.\n",
    "plt.axhline(12)\n",
    "(df.mean()[['purple', 'green', 'red', 'yellow', 'orange']]\n",
    "    .plot(kind='bar', color=['purple', 'green', 'red', 'yellow', 'orange'], yerr=df.std()[['purple', 'green', 'red', 'yellow', 'orange']]))\n"
   ]
  },
  {
   "cell_type": "code",
   "execution_count": 50,
   "metadata": {},
   "outputs": [
    {
     "data": {
      "text/plain": [
       "(568, 11)"
      ]
     },
     "execution_count": 50,
     "metadata": {},
     "output_type": "execute_result"
    }
   ],
   "source": [
    "#Creating 1 dataset out of 2 datasets\n",
    "mod_df_468 = df_468.copy().drop('uncounted', axis=1)\n",
    "mod_df_468['d_purple'] = np.zeros(468)\n",
    "mod_df_468['d_green'] = np.zeros(468)\n",
    "mod_df_468['d_red'] = np.zeros(468)\n",
    "mod_df_468['d_yellow'] = np.zeros(468)\n",
    "mod_df_468['d_orange'] = np.zeros(468)\n",
    "mod_df_468['bag_number'] = np.arange(101, 569)\n",
    "mod_df_468.head()\n",
    "df_568 = pd.concat([df_100, mod_df_468[df_100.columns]])\n",
    "df_568.head()\n",
    "df_568.shape"
   ]
  },
  {
   "cell_type": "code",
   "execution_count": 30,
   "metadata": {},
   "outputs": [
    {
     "data": {
      "text/html": [
       "<div>\n",
       "<style scoped>\n",
       "    .dataframe tbody tr th:only-of-type {\n",
       "        vertical-align: middle;\n",
       "    }\n",
       "\n",
       "    .dataframe tbody tr th {\n",
       "        vertical-align: top;\n",
       "    }\n",
       "\n",
       "    .dataframe thead th {\n",
       "        text-align: right;\n",
       "    }\n",
       "</style>\n",
       "<table border=\"1\" class=\"dataframe\">\n",
       "  <thead>\n",
       "    <tr style=\"text-align: right;\">\n",
       "      <th></th>\n",
       "      <th>bag_number</th>\n",
       "      <th>purple</th>\n",
       "      <th>green</th>\n",
       "      <th>red</th>\n",
       "      <th>yellow</th>\n",
       "      <th>orange</th>\n",
       "      <th>d_purple</th>\n",
       "      <th>d_green</th>\n",
       "      <th>d_red</th>\n",
       "      <th>d_yellow</th>\n",
       "      <th>d_orange</th>\n",
       "    </tr>\n",
       "  </thead>\n",
       "  <tbody>\n",
       "    <tr>\n",
       "      <th>0</th>\n",
       "      <td>1</td>\n",
       "      <td>3</td>\n",
       "      <td>25</td>\n",
       "      <td>6</td>\n",
       "      <td>14</td>\n",
       "      <td>6</td>\n",
       "      <td>0.0</td>\n",
       "      <td>0.0</td>\n",
       "      <td>2.0</td>\n",
       "      <td>1.0</td>\n",
       "      <td>1.0</td>\n",
       "    </tr>\n",
       "    <tr>\n",
       "      <th>1</th>\n",
       "      <td>2</td>\n",
       "      <td>12</td>\n",
       "      <td>11</td>\n",
       "      <td>10</td>\n",
       "      <td>14</td>\n",
       "      <td>9</td>\n",
       "      <td>0.0</td>\n",
       "      <td>1.0</td>\n",
       "      <td>2.0</td>\n",
       "      <td>1.0</td>\n",
       "      <td>4.0</td>\n",
       "    </tr>\n",
       "    <tr>\n",
       "      <th>2</th>\n",
       "      <td>3</td>\n",
       "      <td>8</td>\n",
       "      <td>13</td>\n",
       "      <td>6</td>\n",
       "      <td>17</td>\n",
       "      <td>10</td>\n",
       "      <td>0.0</td>\n",
       "      <td>5.0</td>\n",
       "      <td>0.0</td>\n",
       "      <td>1.0</td>\n",
       "      <td>1.0</td>\n",
       "    </tr>\n",
       "    <tr>\n",
       "      <th>3</th>\n",
       "      <td>4</td>\n",
       "      <td>13</td>\n",
       "      <td>9</td>\n",
       "      <td>12</td>\n",
       "      <td>9</td>\n",
       "      <td>10</td>\n",
       "      <td>1.0</td>\n",
       "      <td>0.0</td>\n",
       "      <td>2.0</td>\n",
       "      <td>1.0</td>\n",
       "      <td>1.0</td>\n",
       "    </tr>\n",
       "    <tr>\n",
       "      <th>4</th>\n",
       "      <td>5</td>\n",
       "      <td>13</td>\n",
       "      <td>7</td>\n",
       "      <td>8</td>\n",
       "      <td>13</td>\n",
       "      <td>11</td>\n",
       "      <td>0.0</td>\n",
       "      <td>0.0</td>\n",
       "      <td>1.0</td>\n",
       "      <td>1.0</td>\n",
       "      <td>3.0</td>\n",
       "    </tr>\n",
       "  </tbody>\n",
       "</table>\n",
       "</div>"
      ],
      "text/plain": [
       "   bag_number  purple  green  red  yellow  orange  d_purple  d_green  d_red  \\\n",
       "0           1       3     25    6      14       6       0.0      0.0    2.0   \n",
       "1           2      12     11   10      14       9       0.0      1.0    2.0   \n",
       "2           3       8     13    6      17      10       0.0      5.0    0.0   \n",
       "3           4      13      9   12       9      10       1.0      0.0    2.0   \n",
       "4           5      13      7    8      13      11       0.0      0.0    1.0   \n",
       "\n",
       "   d_yellow  d_orange  \n",
       "0       1.0       1.0  \n",
       "1       1.0       4.0  \n",
       "2       1.0       1.0  \n",
       "3       1.0       1.0  \n",
       "4       1.0       3.0  "
      ]
     },
     "execution_count": 30,
     "metadata": {},
     "output_type": "execute_result"
    }
   ],
   "source": [
    "df_568.head()"
   ]
  },
  {
   "cell_type": "code",
   "execution_count": 31,
   "metadata": {},
   "outputs": [
    {
     "data": {
      "text/plain": [
       "<matplotlib.axes._subplots.AxesSubplot at 0x111fd26d6d8>"
      ]
     },
     "execution_count": 31,
     "metadata": {},
     "output_type": "execute_result"
    },
    {
     "data": {
      "image/png": "[encoded data removed]",
      "text/plain": [
       "<Figure size 432x288 with 1 Axes>"
      ]
     },
     "metadata": {
      "needs_background": "light"
     },
     "output_type": "display_data"
    }
   ],
   "source": [
    "# Cumulative Sum - \n",
    "(df_568.cumsum()['purple']  / df_568.bag_number).reset_index(drop=True).plot()\n",
    "(df_568.cumsum()['red']  / df_568.bag_number).reset_index(drop=True).plot()\n",
    "(df_568.cumsum()['yellow']  / df_568.bag_number).reset_index(drop=True).plot()\n",
    "(df_568.cumsum()['green']  / df_568.bag_number).reset_index(drop=True).plot()\n",
    "(df_568.cumsum()['orange']  / df_568.bag_number).reset_index(drop=True).plot()"
   ]
  },
  {
   "cell_type": "markdown",
   "metadata": {},
   "source": [
    "Over the long run, our averages of colors should even out even though color counts vary between bags - \n",
    "even with the extra set of data available."
   ]
  },
  {
   "cell_type": "code",
   "execution_count": 192,
   "metadata": {},
   "outputs": [
    {
     "data": {
      "text/plain": [
       "(<matplotlib.axes._subplots.AxesSubplot at 0x111940f1470>,\n",
       " (-0.5, 99.5, 0.0, 61.95))"
      ]
     },
     "execution_count": 192,
     "metadata": {},
     "output_type": "execute_result"
    },
    {
     "data": {
      "image/png": "[encoded data removed]",
      "text/plain": [
       "<Figure size 432x288 with 1 Axes>"
      ]
     },
     "metadata": {
      "needs_background": "light"
     },
     "output_type": "display_data"
    }
   ],
   "source": [
    "df[['orange', 'green', 'purple', 'red', 'yellow']].plot.bar(stacked=True, legend=False),plt.axis('off')"
   ]
  },
  {
   "cell_type": "markdown",
   "metadata": {},
   "source": [
    "### What other interesting things could the Skittles tell us?\n",
    "How many duplicate bags could we find?  How many \"perfect bags could we find in both the original 100 and additional 468 bags?"
   ]
  },
  {
   "cell_type": "code",
   "execution_count": 193,
   "metadata": {},
   "outputs": [
    {
     "data": {
      "text/plain": [
       "111311121100    2\n",
       "71006122000     1\n",
       "102216050700    1\n",
       "120918071300    1\n",
       "61212121100     1\n",
       "dtype: int64"
      ]
     },
     "execution_count": 193,
     "metadata": {},
     "output_type": "execute_result"
    }
   ],
   "source": [
    "#Breaking our Skittles down into value counts to find \"perfect\" bags\n",
    "(df_568.orange * 100 \n",
    "+df_568.yellow * 10000\n",
    "+df_568.red * 1000000\n",
    "+df_568.green * 100000000\n",
    "+df_568.purple * 10000000000).value_counts().sort_values(ascending=False).head()\n"
   ]
  },
  {
   "cell_type": "code",
   "execution_count": 75,
   "metadata": {},
   "outputs": [
    {
     "data": {
      "text/plain": [
       "purple       11\n",
       "green        13\n",
       "red          11\n",
       "yellow       12\n",
       "orange       11\n",
       "uncounted     0\n",
       "Name: 333, dtype: int64"
      ]
     },
     "execution_count": 75,
     "metadata": {},
     "output_type": "execute_result"
    }
   ],
   "source": [
    "df_468.iloc[333]"
   ]
  },
  {
   "cell_type": "code",
   "execution_count": 74,
   "metadata": {},
   "outputs": [
    {
     "data": {
      "text/plain": [
       "purple       11\n",
       "green        13\n",
       "red          11\n",
       "yellow       12\n",
       "orange       11\n",
       "uncounted     0\n",
       "Name: 463, dtype: int64"
      ]
     },
     "execution_count": 74,
     "metadata": {},
     "output_type": "execute_result"
    }
   ],
   "source": [
    "df_468.iloc[463]"
   ]
  },
  {
   "cell_type": "markdown",
   "metadata": {},
   "source": [
    "This told us that out of 100 bags, there were only 2 bags that had 0 defective Skittles"
   ]
  },
  {
   "cell_type": "code",
   "execution_count": 194,
   "metadata": {},
   "outputs": [
    {
     "data": {
      "text/html": [
       "<div>\n",
       "<style scoped>\n",
       "    .dataframe tbody tr th:only-of-type {\n",
       "        vertical-align: middle;\n",
       "    }\n",
       "\n",
       "    .dataframe tbody tr th {\n",
       "        vertical-align: top;\n",
       "    }\n",
       "\n",
       "    .dataframe thead th {\n",
       "        text-align: right;\n",
       "    }\n",
       "</style>\n",
       "<table border=\"1\" class=\"dataframe\">\n",
       "  <thead>\n",
       "    <tr style=\"text-align: right;\">\n",
       "      <th></th>\n",
       "      <th>bag_number</th>\n",
       "      <th>purple</th>\n",
       "      <th>green</th>\n",
       "      <th>red</th>\n",
       "      <th>yellow</th>\n",
       "      <th>orange</th>\n",
       "      <th>d_purple</th>\n",
       "      <th>d_green</th>\n",
       "      <th>d_red</th>\n",
       "      <th>d_yellow</th>\n",
       "      <th>d_orange</th>\n",
       "      <th>box_number</th>\n",
       "    </tr>\n",
       "  </thead>\n",
       "  <tbody>\n",
       "    <tr>\n",
       "      <th>55</th>\n",
       "      <td>56</td>\n",
       "      <td>11</td>\n",
       "      <td>13</td>\n",
       "      <td>11</td>\n",
       "      <td>10</td>\n",
       "      <td>12</td>\n",
       "      <td>0</td>\n",
       "      <td>0</td>\n",
       "      <td>0</td>\n",
       "      <td>0</td>\n",
       "      <td>0</td>\n",
       "      <td>2.0</td>\n",
       "    </tr>\n",
       "    <tr>\n",
       "      <th>61</th>\n",
       "      <td>62</td>\n",
       "      <td>8</td>\n",
       "      <td>14</td>\n",
       "      <td>8</td>\n",
       "      <td>9</td>\n",
       "      <td>17</td>\n",
       "      <td>0</td>\n",
       "      <td>0</td>\n",
       "      <td>0</td>\n",
       "      <td>0</td>\n",
       "      <td>0</td>\n",
       "      <td>2.0</td>\n",
       "    </tr>\n",
       "  </tbody>\n",
       "</table>\n",
       "</div>"
      ],
      "text/plain": [
       "    bag_number  purple  green  red  yellow  orange  d_purple  d_green  d_red  \\\n",
       "55          56      11     13   11      10      12         0        0      0   \n",
       "61          62       8     14    8       9      17         0        0      0   \n",
       "\n",
       "    d_yellow  d_orange  box_number  \n",
       "55         0         0         2.0  \n",
       "61         0         0         2.0  "
      ]
     },
     "execution_count": 194,
     "metadata": {},
     "output_type": "execute_result"
    }
   ],
   "source": [
    "df.loc[((df.d_purple ==  0) \n",
    "  & (df.d_green ==  0)\n",
    "  & (df.d_red ==  0)\n",
    "  & (df.d_yellow ==  0)\n",
    "  & (df.d_orange ==  0))]"
   ]
  },
  {
   "cell_type": "markdown",
   "metadata": {},
   "source": [
    "Does this mean that the additional 468 bags had 412 bags with no defects? Unlikely the counting method for the additional\n",
    "458 bags was not consistent with how we counted 100 bags.  The 'Uncounted\" column in the dataset wasn't defined like our \"defective\" Skittles - so this isn't accurate."
   ]
  },
  {
   "cell_type": "code",
   "execution_count": 195,
   "metadata": {},
   "outputs": [
    {
     "data": {
      "text/html": [
       "<div>\n",
       "<style scoped>\n",
       "    .dataframe tbody tr th:only-of-type {\n",
       "        vertical-align: middle;\n",
       "    }\n",
       "\n",
       "    .dataframe tbody tr th {\n",
       "        vertical-align: top;\n",
       "    }\n",
       "\n",
       "    .dataframe thead th {\n",
       "        text-align: right;\n",
       "    }\n",
       "</style>\n",
       "<table border=\"1\" class=\"dataframe\">\n",
       "  <thead>\n",
       "    <tr style=\"text-align: right;\">\n",
       "      <th></th>\n",
       "      <th>purple</th>\n",
       "      <th>green</th>\n",
       "      <th>red</th>\n",
       "      <th>yellow</th>\n",
       "      <th>orange</th>\n",
       "      <th>uncounted</th>\n",
       "    </tr>\n",
       "  </thead>\n",
       "  <tbody>\n",
       "    <tr>\n",
       "      <th>0</th>\n",
       "      <td>18</td>\n",
       "      <td>7</td>\n",
       "      <td>10</td>\n",
       "      <td>11</td>\n",
       "      <td>15</td>\n",
       "      <td>0</td>\n",
       "    </tr>\n",
       "    <tr>\n",
       "      <th>1</th>\n",
       "      <td>10</td>\n",
       "      <td>15</td>\n",
       "      <td>5</td>\n",
       "      <td>17</td>\n",
       "      <td>12</td>\n",
       "      <td>0</td>\n",
       "    </tr>\n",
       "    <tr>\n",
       "      <th>2</th>\n",
       "      <td>9</td>\n",
       "      <td>11</td>\n",
       "      <td>16</td>\n",
       "      <td>15</td>\n",
       "      <td>11</td>\n",
       "      <td>0</td>\n",
       "    </tr>\n",
       "    <tr>\n",
       "      <th>3</th>\n",
       "      <td>7</td>\n",
       "      <td>16</td>\n",
       "      <td>15</td>\n",
       "      <td>13</td>\n",
       "      <td>8</td>\n",
       "      <td>0</td>\n",
       "    </tr>\n",
       "  </tbody>\n",
       "</table>\n",
       "</div>"
      ],
      "text/plain": [
       "   purple  green  red  yellow  orange  uncounted\n",
       "0      18      7   10      11      15          0\n",
       "1      10     15    5      17      12          0\n",
       "2       9     11   16      15      11          0\n",
       "3       7     16   15      13       8          0"
      ]
     },
     "execution_count": 195,
     "metadata": {},
     "output_type": "execute_result"
    }
   ],
   "source": [
    "df_468.head().loc[(df_468.uncounted ==  0) ]"
   ]
  },
  {
   "cell_type": "code",
   "execution_count": 196,
   "metadata": {},
   "outputs": [
    {
     "data": {
      "text/html": [
       "<div>\n",
       "<style scoped>\n",
       "    .dataframe tbody tr th:only-of-type {\n",
       "        vertical-align: middle;\n",
       "    }\n",
       "\n",
       "    .dataframe tbody tr th {\n",
       "        vertical-align: top;\n",
       "    }\n",
       "\n",
       "    .dataframe thead th {\n",
       "        text-align: right;\n",
       "    }\n",
       "</style>\n",
       "<table border=\"1\" class=\"dataframe\">\n",
       "  <thead>\n",
       "    <tr style=\"text-align: right;\">\n",
       "      <th></th>\n",
       "      <th>purple</th>\n",
       "      <th>green</th>\n",
       "      <th>red</th>\n",
       "      <th>yellow</th>\n",
       "      <th>orange</th>\n",
       "      <th>uncounted</th>\n",
       "    </tr>\n",
       "  </thead>\n",
       "  <tbody>\n",
       "    <tr>\n",
       "      <th>463</th>\n",
       "      <td>11</td>\n",
       "      <td>13</td>\n",
       "      <td>11</td>\n",
       "      <td>12</td>\n",
       "      <td>11</td>\n",
       "      <td>0</td>\n",
       "    </tr>\n",
       "    <tr>\n",
       "      <th>464</th>\n",
       "      <td>12</td>\n",
       "      <td>11</td>\n",
       "      <td>17</td>\n",
       "      <td>8</td>\n",
       "      <td>10</td>\n",
       "      <td>0</td>\n",
       "    </tr>\n",
       "    <tr>\n",
       "      <th>465</th>\n",
       "      <td>15</td>\n",
       "      <td>10</td>\n",
       "      <td>9</td>\n",
       "      <td>12</td>\n",
       "      <td>14</td>\n",
       "      <td>0</td>\n",
       "    </tr>\n",
       "    <tr>\n",
       "      <th>466</th>\n",
       "      <td>10</td>\n",
       "      <td>10</td>\n",
       "      <td>12</td>\n",
       "      <td>11</td>\n",
       "      <td>14</td>\n",
       "      <td>0</td>\n",
       "    </tr>\n",
       "    <tr>\n",
       "      <th>467</th>\n",
       "      <td>15</td>\n",
       "      <td>13</td>\n",
       "      <td>11</td>\n",
       "      <td>12</td>\n",
       "      <td>8</td>\n",
       "      <td>0</td>\n",
       "    </tr>\n",
       "  </tbody>\n",
       "</table>\n",
       "</div>"
      ],
      "text/plain": [
       "     purple  green  red  yellow  orange  uncounted\n",
       "463      11     13   11      12      11          0\n",
       "464      12     11   17       8      10          0\n",
       "465      15     10    9      12      14          0\n",
       "466      10     10   12      11      14          0\n",
       "467      15     13   11      12       8          0"
      ]
     },
     "execution_count": 196,
     "metadata": {},
     "output_type": "execute_result"
    }
   ],
   "source": [
    "df_468.tail().loc[(df_468.uncounted ==  0) ]"
   ]
  },
  {
   "cell_type": "markdown",
   "metadata": {},
   "source": [
    "### Can we prove the NULL HYPOTHESIS?"
   ]
  },
  {
   "cell_type": "code",
   "execution_count": 197,
   "metadata": {},
   "outputs": [
    {
     "data": {
      "image/png": "[encoded data removed]",
      "text/plain": [
       "<Figure size 432x288 with 1 Axes>"
      ]
     },
     "metadata": {
      "needs_background": "light"
     },
     "output_type": "display_data"
    },
    {
     "data": {
      "image/png": "[encoded data removed]",
      "text/plain": [
       "<Figure size 432x288 with 1 Axes>"
      ]
     },
     "metadata": {
      "needs_background": "light"
     },
     "output_type": "display_data"
    },
    {
     "data": {
      "image/png": "[encoded data removed]",
      "text/plain": [
       "<Figure size 432x288 with 1 Axes>"
      ]
     },
     "metadata": {
      "needs_background": "light"
     },
     "output_type": "display_data"
    },
    {
     "data": {
      "image/png": "[encoded data removed]",
      "text/plain": [
       "<Figure size 432x288 with 1 Axes>"
      ]
     },
     "metadata": {
      "needs_background": "light"
     },
     "output_type": "display_data"
    },
    {
     "data": {
      "image/png": "[encoded data removed]",
      "text/plain": [
       "<Figure size 432x288 with 1 Axes>"
      ]
     },
     "metadata": {
      "needs_background": "light"
     },
     "output_type": "display_data"
    }
   ],
   "source": [
    "#df_568.orange.hist()\n",
    "for color in ['purple', 'green', 'red', 'yellow', 'orange']:\n",
    "    df_568[color].plot(kind='hist', color=color)\n",
    "    plt.show()"
   ]
  },
  {
   "cell_type": "markdown",
   "metadata": {},
   "source": [
    "Value Counts per color - read from right to left (69 bags with 11 orange Skittles)"
   ]
  },
  {
   "cell_type": "code",
   "execution_count": 92,
   "metadata": {},
   "outputs": [
    {
     "data": {
      "text/plain": [
       "11    69\n",
       "13    68\n",
       "10    68\n",
       "12    61\n",
       "9     60\n",
       "14    49\n",
       "8     39\n",
       "15    36\n",
       "16    23\n",
       "17    22\n",
       "7     21\n",
       "6     15\n",
       "18    12\n",
       "5     10\n",
       "20     5\n",
       "4      4\n",
       "19     4\n",
       "22     1\n",
       "2      1\n",
       "Name: orange, dtype: int64"
      ]
     },
     "execution_count": 92,
     "metadata": {},
     "output_type": "execute_result"
    }
   ],
   "source": [
    "df_568.orange.value_counts()"
   ]
  },
  {
   "cell_type": "code",
   "execution_count": 198,
   "metadata": {},
   "outputs": [
    {
     "data": {
      "text/plain": [
       "12    70\n",
       "11    66\n",
       "10    59\n",
       "13    58\n",
       "14    51\n",
       "9     45\n",
       "15    42\n",
       "8     40\n",
       "7     33\n",
       "16    23\n",
       "17    19\n",
       "6     19\n",
       "18    14\n",
       "5     10\n",
       "19     7\n",
       "21     4\n",
       "3      3\n",
       "20     2\n",
       "22     1\n",
       "4      1\n",
       "24     1\n",
       "Name: purple, dtype: int64"
      ]
     },
     "execution_count": 198,
     "metadata": {},
     "output_type": "execute_result"
    }
   ],
   "source": [
    "df_568.purple.value_counts()"
   ]
  },
  {
   "cell_type": "code",
   "execution_count": 199,
   "metadata": {},
   "outputs": [
    {
     "data": {
      "text/plain": [
       "12    71\n",
       "13    71\n",
       "10    56\n",
       "8     54\n",
       "11    54\n",
       "9     52\n",
       "14    49\n",
       "15    41\n",
       "7     27\n",
       "16    24\n",
       "6     18\n",
       "17    16\n",
       "18    14\n",
       "5      7\n",
       "19     7\n",
       "4      2\n",
       "20     2\n",
       "22     1\n",
       "21     1\n",
       "3      1\n",
       "Name: red, dtype: int64"
      ]
     },
     "execution_count": 199,
     "metadata": {},
     "output_type": "execute_result"
    }
   ],
   "source": [
    "df_568.red.value_counts()"
   ]
  },
  {
   "cell_type": "code",
   "execution_count": 200,
   "metadata": {},
   "outputs": [
    {
     "data": {
      "text/plain": [
       "10    80\n",
       "11    76\n",
       "9     62\n",
       "12    60\n",
       "13    55\n",
       "8     44\n",
       "14    42\n",
       "7     34\n",
       "15    33\n",
       "16    24\n",
       "17    17\n",
       "6     14\n",
       "5      5\n",
       "18     4\n",
       "22     3\n",
       "19     3\n",
       "20     3\n",
       "4      3\n",
       "3      3\n",
       "2      1\n",
       "25     1\n",
       "1      1\n",
       "Name: green, dtype: int64"
      ]
     },
     "execution_count": 200,
     "metadata": {},
     "output_type": "execute_result"
    }
   ],
   "source": [
    "df_568.green.value_counts()"
   ]
  },
  {
   "cell_type": "code",
   "execution_count": 201,
   "metadata": {},
   "outputs": [
    {
     "data": {
      "text/plain": [
       "12    70\n",
       "10    69\n",
       "11    68\n",
       "13    65\n",
       "14    50\n",
       "15    46\n",
       "9     43\n",
       "8     34\n",
       "16    32\n",
       "17    29\n",
       "7     20\n",
       "6      8\n",
       "19     7\n",
       "5      7\n",
       "18     6\n",
       "20     5\n",
       "21     4\n",
       "22     2\n",
       "4      1\n",
       "24     1\n",
       "2      1\n",
       "Name: yellow, dtype: int64"
      ]
     },
     "execution_count": 201,
     "metadata": {},
     "output_type": "execute_result"
    }
   ],
   "source": [
    "df_568.yellow.value_counts()"
   ]
  },
  {
   "cell_type": "markdown",
   "metadata": {},
   "source": [
    "### Returning to the original 100 bags and compartmentalizing per box of 36"
   ]
  },
  {
   "cell_type": "code",
   "execution_count": 117,
   "metadata": {},
   "outputs": [
    {
     "data": {
      "text/html": [
       "<div>\n",
       "<style scoped>\n",
       "    .dataframe tbody tr th:only-of-type {\n",
       "        vertical-align: middle;\n",
       "    }\n",
       "\n",
       "    .dataframe tbody tr th {\n",
       "        vertical-align: top;\n",
       "    }\n",
       "\n",
       "    .dataframe thead th {\n",
       "        text-align: right;\n",
       "    }\n",
       "</style>\n",
       "<table border=\"1\" class=\"dataframe\">\n",
       "  <thead>\n",
       "    <tr style=\"text-align: right;\">\n",
       "      <th></th>\n",
       "      <th>bag_number</th>\n",
       "      <th>purple</th>\n",
       "      <th>green</th>\n",
       "      <th>red</th>\n",
       "      <th>yellow</th>\n",
       "      <th>orange</th>\n",
       "      <th>d_purple</th>\n",
       "      <th>d_green</th>\n",
       "      <th>d_red</th>\n",
       "      <th>d_yellow</th>\n",
       "      <th>d_orange</th>\n",
       "      <th>box_number</th>\n",
       "    </tr>\n",
       "  </thead>\n",
       "  <tbody>\n",
       "    <tr>\n",
       "      <th>0</th>\n",
       "      <td>1</td>\n",
       "      <td>3</td>\n",
       "      <td>25</td>\n",
       "      <td>6</td>\n",
       "      <td>14</td>\n",
       "      <td>6</td>\n",
       "      <td>0</td>\n",
       "      <td>0</td>\n",
       "      <td>2</td>\n",
       "      <td>1</td>\n",
       "      <td>1</td>\n",
       "      <td>1.0</td>\n",
       "    </tr>\n",
       "    <tr>\n",
       "      <th>1</th>\n",
       "      <td>2</td>\n",
       "      <td>12</td>\n",
       "      <td>11</td>\n",
       "      <td>10</td>\n",
       "      <td>14</td>\n",
       "      <td>9</td>\n",
       "      <td>0</td>\n",
       "      <td>1</td>\n",
       "      <td>2</td>\n",
       "      <td>1</td>\n",
       "      <td>4</td>\n",
       "      <td>1.0</td>\n",
       "    </tr>\n",
       "    <tr>\n",
       "      <th>2</th>\n",
       "      <td>3</td>\n",
       "      <td>8</td>\n",
       "      <td>13</td>\n",
       "      <td>6</td>\n",
       "      <td>17</td>\n",
       "      <td>10</td>\n",
       "      <td>0</td>\n",
       "      <td>5</td>\n",
       "      <td>0</td>\n",
       "      <td>1</td>\n",
       "      <td>1</td>\n",
       "      <td>1.0</td>\n",
       "    </tr>\n",
       "    <tr>\n",
       "      <th>3</th>\n",
       "      <td>4</td>\n",
       "      <td>13</td>\n",
       "      <td>9</td>\n",
       "      <td>12</td>\n",
       "      <td>9</td>\n",
       "      <td>10</td>\n",
       "      <td>1</td>\n",
       "      <td>0</td>\n",
       "      <td>2</td>\n",
       "      <td>1</td>\n",
       "      <td>1</td>\n",
       "      <td>1.0</td>\n",
       "    </tr>\n",
       "    <tr>\n",
       "      <th>4</th>\n",
       "      <td>5</td>\n",
       "      <td>13</td>\n",
       "      <td>7</td>\n",
       "      <td>8</td>\n",
       "      <td>13</td>\n",
       "      <td>11</td>\n",
       "      <td>0</td>\n",
       "      <td>0</td>\n",
       "      <td>1</td>\n",
       "      <td>1</td>\n",
       "      <td>3</td>\n",
       "      <td>1.0</td>\n",
       "    </tr>\n",
       "  </tbody>\n",
       "</table>\n",
       "</div>"
      ],
      "text/plain": [
       "   bag_number  purple  green  red  yellow  orange  d_purple  d_green  d_red  \\\n",
       "0           1       3     25    6      14       6         0        0      2   \n",
       "1           2      12     11   10      14       9         0        1      2   \n",
       "2           3       8     13    6      17      10         0        5      0   \n",
       "3           4      13      9   12       9      10         1        0      2   \n",
       "4           5      13      7    8      13      11         0        0      1   \n",
       "\n",
       "   d_yellow  d_orange  box_number  \n",
       "0         1         1         1.0  \n",
       "1         1         4         1.0  \n",
       "2         1         1         1.0  \n",
       "3         1         1         1.0  \n",
       "4         1         3         1.0  "
      ]
     },
     "execution_count": 117,
     "metadata": {},
     "output_type": "execute_result"
    }
   ],
   "source": [
    "df['box_number']= (np.floor(df.bag_number/36)+1)\n",
    "df.head()"
   ]
  },
  {
   "cell_type": "code",
   "execution_count": 203,
   "metadata": {},
   "outputs": [
    {
     "data": {
      "text/plain": [
       "<matplotlib.axes._subplots.AxesSubplot at 0x11194dba908>"
      ]
     },
     "execution_count": 203,
     "metadata": {},
     "output_type": "execute_result"
    },
    {
     "data": {
      "image/png": "[encoded data removed]",
      "text/plain": [
       "<Figure size 432x288 with 1 Axes>"
      ]
     },
     "metadata": {
      "needs_background": "light"
     },
     "output_type": "display_data"
    },
    {
     "data": {
      "image/png": "[encoded data removed]",
      "text/plain": [
       "<Figure size 432x288 with 1 Axes>"
      ]
     },
     "metadata": {
      "needs_background": "light"
     },
     "output_type": "display_data"
    },
    {
     "data": {
      "image/png": "[encoded data removed]",
      "text/plain": [
       "<Figure size 432x288 with 1 Axes>"
      ]
     },
     "metadata": {
      "needs_background": "light"
     },
     "output_type": "display_data"
    },
    {
     "data": {
      "image/png": "[encoded data removed]",
      "text/plain": [
       "<Figure size 432x288 with 1 Axes>"
      ]
     },
     "metadata": {
      "needs_background": "light"
     },
     "output_type": "display_data"
    },
    {
     "data": {
      "image/png": "[encoded data removed]",
      "text/plain": [
       "<Figure size 432x288 with 1 Axes>"
      ]
     },
     "metadata": {
      "needs_background": "light"
     },
     "output_type": "display_data"
    }
   ],
   "source": [
    "### Displaying box plots to see if there's symmetry in the data by box, by color ###\n",
    "# df[df.box_number==1].orange.hist()\n",
    "# plt.show()\n",
    "# df[df.box_number==2].orange.hist()\n",
    "# plt.show()\n",
    "# df[df.box_number==3].orange.hist()\n",
    "# plt.show()\n",
    "df.boxplot(by='box_number', column='orange')\n",
    "df.boxplot(by='box_number', column='purple')\n",
    "df.boxplot(by='box_number', column='green')\n",
    "df.boxplot(by='box_number', column='red')\n",
    "df.boxplot(by='box_number', column='yellow')"
   ]
  },
  {
   "cell_type": "code",
   "execution_count": 156,
   "metadata": {},
   "outputs": [
    {
     "data": {
      "image/png": "[encoded data removed]",
      "text/plain": [
       "<Figure size 1008x720 with 15 Axes>"
      ]
     },
     "metadata": {
      "needs_background": "light"
     },
     "output_type": "display_data"
    }
   ],
   "source": [
    "plt.figure(figsize=(14, 10))\n",
    "\n",
    "for box_number in [1,2,3]:\n",
    "    for color_index, color in enumerate(['orange', 'green', 'purple', 'red', 'yellow']):\n",
    "        \n",
    "        plt_index = (color_index+1) + (box_number-1)*5\n",
    "#         print(dict(nrows=3, ncols=5, index=plt_index))\n",
    "        ax = plt.subplot(3, 5, plt_index)\n",
    "        ax.set_xlim([3, 25])\n",
    "        df[df.box_number==box_number][color].hist(color=color)#, xlim=(5,25))#xmin=5, xmax=25)"
   ]
  },
  {
   "cell_type": "markdown",
   "metadata": {},
   "source": [
    "### ANOVA Statistical Check"
   ]
  },
  {
   "cell_type": "code",
   "execution_count": 204,
   "metadata": {},
   "outputs": [
    {
     "data": {
      "text/plain": [
       "[(0, 'red'), (1, 'green'), (2, 'yellow'), (3, 'orange'), (4, 'purple')]"
      ]
     },
     "execution_count": 204,
     "metadata": {},
     "output_type": "execute_result"
    }
   ],
   "source": [
    "list(enumerate(['red', 'green','yellow','orange','purple']))"
   ]
  },
  {
   "cell_type": "code",
   "execution_count": 135,
   "metadata": {},
   "outputs": [
    {
     "data": {
      "text/plain": [
       "<matplotlib.lines.Line2D at 0x1118786e748>"
      ]
     },
     "execution_count": 135,
     "metadata": {},
     "output_type": "execute_result"
    },
    {
     "data": {
      "image/png": "[encoded data removed]",
      "text/plain": [
       "<Figure size 432x288 with 1 Axes>"
      ]
     },
     "metadata": {
      "needs_background": "light"
     },
     "output_type": "display_data"
    }
   ],
   "source": [
    "#P Value\n",
    "p_values = []\n",
    "#Calculate the ANOVA:\n",
    "#1) For each color....\n",
    "#2) ANOVA is calculated across the different boxes; \n",
    "#NULL HYPOTHESIS: Doesnt matter which box you came from; I expect a similar distribution of the counts of ____color____\n",
    "# NON-NULL : Box affects your count of color\n",
    "for color in ['orange', 'purple', 'green', 'purple', 'red', 'yellow']:\n",
    "    p_values.append({'color': color, 'pvalue': scipy.stats.f_oneway(*df.groupby('box_number')[color].apply(list)).pvalue })\n",
    "\n",
    "pd.DataFrame(p_values).plot(kind='bar', x='color', y='pvalue', title='Cant reject null hypothesis')\n",
    "plt.axhline(0.05)"
   ]
  },
  {
   "cell_type": "code",
   "execution_count": null,
   "metadata": {},
   "outputs": [],
   "source": [
    "# Export.\n",
    "df_100.to_csv(r'C:\\Users\\RobbenWeems\\Documents\\DA Bootcamp\\FINAL PROJECT\\skittles_export.csv')"
   ]
  },
  {
   "cell_type": "code",
   "execution_count": null,
   "metadata": {},
   "outputs": [],
   "source": [
    "# Export.\n",
    "df_468.to_csv(r'C:\\Users\\RobbenWeems\\Documents\\DA Bootcamp\\FINAL PROJECT\\skittles_export.csv')"
   ]
  },
  {
   "cell_type": "code",
   "execution_count": null,
   "metadata": {},
   "outputs": [],
   "source": [
    "# Export of 100 and 468 JOINED together.\n",
    "df.to_csv(r'C:\\Users\\RobbenWeems\\Documents\\DA Bootcamp\\FINAL PROJECT\\skittles_exportALL.csv')"
   ]
  },
  {
   "cell_type": "markdown",
   "metadata": {},
   "source": [
    "### So what does this all mean?\n",
    "\n",
    "Machine Learning needs a solid X and Y for proper regression and prediction.  Our question was \"could we use machine learning to predict the contents of a bag of Skittles?\"  Since the data in both sets (df_100 and df_468) showed us that the results would rely more on averages than on prediction, proper machine learning couldn't truly be appied to this problem.  We even tried using aspecfic color of Skittle (X) to determine the color and quantity of our remaining Skittles (y), and our R Squred Score was quite low.  DRAT!\n",
    "\n",
    "A prediction can be made by the machine, but it's just going to divide the total sum of all the Skittles and divide it by to number of colors (5).  If the data shows us that there is an average of 60 Skittles per bag, and that breaks down to 5 colors, that means there's an average of 12 Skittles per color (60/5 = 12), regardless of defects, or of a larger data set.\n",
    "\n",
    "The data analysis did support the NULL HYPOTHESIS.  The null hypothesis attempts to show that no variation exists between variables or that a single variable is no different than its mean. It is presumed to be true until statistical evidence nullifies it for an alternative hypothesis.  Simply put - with the data we have, there's no corellation between our variables.  A specific bag of Skittles from a specific box and it's specific contents (called bag 21) has no correlation with bag 54 or bag 999...other than Skittles are delicious.\n",
    "\n",
    "Out of 100 bags of Skittles in df_100, we saw two bags with no defects.  Out of 468 bags in df_468, two had an identical colors and counts.  Coincidence?  No.  Just the law of averages in a Bernoulli Trail.\n",
    "\n",
    "Before we leave, here are some fast facts about what we encountered.\n",
    "\n",
    "- 1 bag of Skittles contains 45 grams of sugar - that's 90% of the recommended daily amount.\n",
    "- 100 bags of Skittles is 4,500 grams of sugar (or 4,500 sugar packets).\n",
    "- From the 100 bags:\n",
    "- Purple: 964\n",
    "- Purple Defects: 107\n",
    "- Green: 964\n",
    "- Green Defects: 215\n",
    "- Red: 1,014\n",
    "- Red Defects: 172\n",
    "- Yellow: 1,211\n",
    "- Yellow Defects: 67\n",
    "- Orange: 1,095\n",
    "- Orange Defects: 214\n",
    "- Average time to unwrap, sort, count, and photograph Skittles: 1 min 50 seconds.\n",
    "\n",
    "# TASTE THE RAINBOW!"
   ]
  }
 ],
 "metadata": {
  "kernelspec": {
   "display_name": "Python 3",
   "language": "python",
   "name": "python3"
  },
  "language_info": {
   "codemirror_mode": {
    "name": "ipython",
    "version": 3
   },
   "file_extension": ".py",
   "mimetype": "text/x-python",
   "name": "python",
   "nbconvert_exporter": "python",
   "pygments_lexer": "ipython3",
   "version": "3.7.3"
  }
 },
 "nbformat": 4,
 "nbformat_minor": 2
}
