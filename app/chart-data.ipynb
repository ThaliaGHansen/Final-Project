{
 "cells": [
  {
   "cell_type": "markdown",
   "metadata": {},
   "source": [
    "### Re-test for Normal & Defect Distribution\n",
    "\n",
    "##### Goals\n",
    "- Calculate total defects & number of individual color defects\n",
    "- Calculate average defects (+ per color) for all bags\n",
    "- Heatmap/stacked-bar for each color and the ratios of normal to defect per bag/overall"
   ]
  },
  {
   "cell_type": "code",
   "execution_count": 1,
   "metadata": {},
   "outputs": [],
   "source": [
    "%matplotlib notebook\n",
    "# imports\n",
    "from matplotlib import pyplot as plt\n",
    "from scipy import stats\n",
    "import numpy as np\n",
    "import pandas as pd"
   ]
  },
  {
   "cell_type": "code",
   "execution_count": 2,
   "metadata": {},
   "outputs": [],
   "source": [
    "skittles_df = pd.read_csv(\"skittles.csv\")"
   ]
  },
  {
   "cell_type": "code",
   "execution_count": 3,
   "metadata": {},
   "outputs": [
    {
     "data": {
      "text/html": [
       "<div>\n",
       "<style scoped>\n",
       "    .dataframe tbody tr th:only-of-type {\n",
       "        vertical-align: middle;\n",
       "    }\n",
       "\n",
       "    .dataframe tbody tr th {\n",
       "        vertical-align: top;\n",
       "    }\n",
       "\n",
       "    .dataframe thead th {\n",
       "        text-align: right;\n",
       "    }\n",
       "</style>\n",
       "<table border=\"1\" class=\"dataframe\">\n",
       "  <thead>\n",
       "    <tr style=\"text-align: right;\">\n",
       "      <th></th>\n",
       "      <th>bag_number</th>\n",
       "      <th>purple</th>\n",
       "      <th>green</th>\n",
       "      <th>red</th>\n",
       "      <th>yellow</th>\n",
       "      <th>orange</th>\n",
       "      <th>total_perf</th>\n",
       "      <th>d_purple</th>\n",
       "      <th>d_green</th>\n",
       "      <th>d_red</th>\n",
       "      <th>d_yellow</th>\n",
       "      <th>d_orange</th>\n",
       "      <th>total_def</th>\n",
       "      <th>bag_total</th>\n",
       "      <th>Unnamed: 14</th>\n",
       "      <th>Unnamed: 15</th>\n",
       "      <th>per_of_probability_defects_per_bag</th>\n",
       "      <th>per_of_probability_of_normal_skittles</th>\n",
       "    </tr>\n",
       "  </thead>\n",
       "  <tbody>\n",
       "    <tr>\n",
       "      <th>0</th>\n",
       "      <td>1</td>\n",
       "      <td>3</td>\n",
       "      <td>25</td>\n",
       "      <td>6</td>\n",
       "      <td>14</td>\n",
       "      <td>6</td>\n",
       "      <td>54</td>\n",
       "      <td>0</td>\n",
       "      <td>0</td>\n",
       "      <td>2</td>\n",
       "      <td>1</td>\n",
       "      <td>1</td>\n",
       "      <td>4</td>\n",
       "      <td>58</td>\n",
       "      <td>55</td>\n",
       "      <td>4</td>\n",
       "      <td>7%</td>\n",
       "      <td>95%</td>\n",
       "    </tr>\n",
       "    <tr>\n",
       "      <th>1</th>\n",
       "      <td>2</td>\n",
       "      <td>12</td>\n",
       "      <td>11</td>\n",
       "      <td>10</td>\n",
       "      <td>14</td>\n",
       "      <td>9</td>\n",
       "      <td>56</td>\n",
       "      <td>0</td>\n",
       "      <td>1</td>\n",
       "      <td>2</td>\n",
       "      <td>1</td>\n",
       "      <td>4</td>\n",
       "      <td>8</td>\n",
       "      <td>64</td>\n",
       "      <td>58</td>\n",
       "      <td>8</td>\n",
       "      <td>13%</td>\n",
       "      <td>91%</td>\n",
       "    </tr>\n",
       "    <tr>\n",
       "      <th>2</th>\n",
       "      <td>3</td>\n",
       "      <td>8</td>\n",
       "      <td>13</td>\n",
       "      <td>6</td>\n",
       "      <td>17</td>\n",
       "      <td>10</td>\n",
       "      <td>54</td>\n",
       "      <td>0</td>\n",
       "      <td>5</td>\n",
       "      <td>0</td>\n",
       "      <td>1</td>\n",
       "      <td>1</td>\n",
       "      <td>7</td>\n",
       "      <td>61</td>\n",
       "      <td>57</td>\n",
       "      <td>7</td>\n",
       "      <td>11%</td>\n",
       "      <td>93%</td>\n",
       "    </tr>\n",
       "    <tr>\n",
       "      <th>3</th>\n",
       "      <td>4</td>\n",
       "      <td>13</td>\n",
       "      <td>9</td>\n",
       "      <td>12</td>\n",
       "      <td>9</td>\n",
       "      <td>10</td>\n",
       "      <td>53</td>\n",
       "      <td>1</td>\n",
       "      <td>0</td>\n",
       "      <td>2</td>\n",
       "      <td>1</td>\n",
       "      <td>1</td>\n",
       "      <td>5</td>\n",
       "      <td>58</td>\n",
       "      <td>57</td>\n",
       "      <td>5</td>\n",
       "      <td>9%</td>\n",
       "      <td>98%</td>\n",
       "    </tr>\n",
       "    <tr>\n",
       "      <th>4</th>\n",
       "      <td>5</td>\n",
       "      <td>13</td>\n",
       "      <td>7</td>\n",
       "      <td>8</td>\n",
       "      <td>13</td>\n",
       "      <td>11</td>\n",
       "      <td>52</td>\n",
       "      <td>0</td>\n",
       "      <td>0</td>\n",
       "      <td>1</td>\n",
       "      <td>1</td>\n",
       "      <td>3</td>\n",
       "      <td>5</td>\n",
       "      <td>57</td>\n",
       "      <td>57</td>\n",
       "      <td>5</td>\n",
       "      <td>9%</td>\n",
       "      <td>100%</td>\n",
       "    </tr>\n",
       "  </tbody>\n",
       "</table>\n",
       "</div>"
      ],
      "text/plain": [
       "   bag_number  purple  green  red  yellow  orange  total_perf  d_purple  \\\n",
       "0           1       3     25    6      14       6          54         0   \n",
       "1           2      12     11   10      14       9          56         0   \n",
       "2           3       8     13    6      17      10          54         0   \n",
       "3           4      13      9   12       9      10          53         1   \n",
       "4           5      13      7    8      13      11          52         0   \n",
       "\n",
       "   d_green  d_red  d_yellow  d_orange  total_def  bag_total  Unnamed: 14  \\\n",
       "0        0      2         1         1          4         58           55   \n",
       "1        1      2         1         4          8         64           58   \n",
       "2        5      0         1         1          7         61           57   \n",
       "3        0      2         1         1          5         58           57   \n",
       "4        0      1         1         3          5         57           57   \n",
       "\n",
       "   Unnamed: 15 per_of_probability_defects_per_bag  \\\n",
       "0            4                                 7%   \n",
       "1            8                                13%   \n",
       "2            7                                11%   \n",
       "3            5                                 9%   \n",
       "4            5                                 9%   \n",
       "\n",
       "  per_of_probability_of_normal_skittles  \n",
       "0                                   95%  \n",
       "1                                   91%  \n",
       "2                                   93%  \n",
       "3                                   98%  \n",
       "4                                  100%  "
      ]
     },
     "execution_count": 3,
     "metadata": {},
     "output_type": "execute_result"
    }
   ],
   "source": [
    "skittles_df.head()"
   ]
  },
  {
   "cell_type": "code",
   "execution_count": 4,
   "metadata": {},
   "outputs": [],
   "source": [
    "# Total of all normal skittles per color\n",
    "p_total = sum(skittles_df['purple'])\n",
    "g_total = sum(skittles_df['green'])\n",
    "r_total = sum(skittles_df['red'])\n",
    "y_total = sum(skittles_df['yellow'])\n",
    "o_total = sum(skittles_df['orange'])"
   ]
  },
  {
   "cell_type": "code",
   "execution_count": 5,
   "metadata": {},
   "outputs": [
    {
     "data": {
      "text/plain": [
       "964"
      ]
     },
     "execution_count": 5,
     "metadata": {},
     "output_type": "execute_result"
    }
   ],
   "source": [
    "p_total"
   ]
  },
  {
   "cell_type": "code",
   "execution_count": 6,
   "metadata": {},
   "outputs": [],
   "source": [
    "# Total of all skittles defects per color"
   ]
  },
  {
   "cell_type": "code",
   "execution_count": 7,
   "metadata": {},
   "outputs": [],
   "source": [
    "dp_total = sum(skittles_df['d_purple']) \n",
    "dg_total = sum(skittles_df['d_green']) \n",
    "dr_total = sum(skittles_df['d_red']) \n",
    "dy_total = sum(skittles_df['d_yellow']) \n",
    "do_total = sum(skittles_df['d_orange']) "
   ]
  },
  {
   "cell_type": "code",
   "execution_count": 8,
   "metadata": {},
   "outputs": [
    {
     "data": {
      "text/plain": [
       "214"
      ]
     },
     "execution_count": 8,
     "metadata": {},
     "output_type": "execute_result"
    }
   ],
   "source": [
    "do_total"
   ]
  },
  {
   "cell_type": "code",
   "execution_count": 9,
   "metadata": {},
   "outputs": [],
   "source": [
    "#calculate average of defects per color for all bags \n",
    "\n",
    "mean_dp = skittles_df[\"d_purple\"].mean()\n",
    "mean_dg = skittles_df[\"d_green\"].mean()\n",
    "mean_dr = skittles_df[\"d_red\"].mean()\n",
    "mean_dy = skittles_df[\"d_yellow\"].mean()\n",
    "mean_do = skittles_df[\"d_orange\"].mean()"
   ]
  },
  {
   "cell_type": "code",
   "execution_count": 10,
   "metadata": {},
   "outputs": [
    {
     "data": {
      "text/plain": [
       "1.07"
      ]
     },
     "execution_count": 10,
     "metadata": {},
     "output_type": "execute_result"
    }
   ],
   "source": [
    "mean_dp\n"
   ]
  },
  {
   "cell_type": "code",
   "execution_count": 11,
   "metadata": {},
   "outputs": [],
   "source": [
    "#calculate average of normal skittles per color for all bags\n",
    "\n",
    "mean_p = skittles_df[\"purple\"].mean()\n",
    "mean_g = skittles_df[\"green\"].mean()\n",
    "mean_r = skittles_df[\"red\"].mean()\n",
    "mean_y = skittles_df[\"yellow\"].mean()\n",
    "mean_o = skittles_df[\"orange\"].mean()"
   ]
  },
  {
   "cell_type": "code",
   "execution_count": 12,
   "metadata": {},
   "outputs": [
    {
     "data": {
      "text/plain": [
       "9.64"
      ]
     },
     "execution_count": 12,
     "metadata": {},
     "output_type": "execute_result"
    }
   ],
   "source": [
    "mean_p"
   ]
  },
  {
   "cell_type": "code",
   "execution_count": null,
   "metadata": {},
   "outputs": [],
   "source": []
  }
 ],
 "metadata": {
  "kernelspec": {
   "display_name": "Python 3",
   "language": "python",
   "name": "python3"
  },
  "language_info": {
   "codemirror_mode": {
    "name": "ipython",
    "version": 3
   },
   "file_extension": ".py",
   "mimetype": "text/x-python",
   "name": "python",
   "nbconvert_exporter": "python",
   "pygments_lexer": "ipython3",
   "version": "3.7.3"
  }
 },
 "nbformat": 4,
 "nbformat_minor": 2
}
